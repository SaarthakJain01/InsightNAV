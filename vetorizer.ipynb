{
 "cells": [
  {
   "cell_type": "code",
   "execution_count": null,
   "id": "57876d26",
   "metadata": {},
   "outputs": [],
   "source": [
    "from mftool import Mftool\n",
    "import pandas as pd\n",
    "from sklearn.feature_extraction.text import TfidfVectorizer\n",
    "from sklearn.pipeline import Pipeline\n",
    "import joblib\n",
    "from utils import clean_names"
   ]
  },
  {
   "cell_type": "code",
   "execution_count": 3,
   "id": "fcdd1d45",
   "metadata": {},
   "outputs": [
    {
     "data": {
      "text/plain": [
       "['tfidf_bundle.pkl']"
      ]
     },
     "execution_count": 3,
     "metadata": {},
     "output_type": "execute_result"
    }
   ],
   "source": [
    "# --- Get and prepare data ---\n",
    "mf = Mftool()\n",
    "schemes = mf.get_scheme_codes()\n",
    "\n",
    "schemes_df = pd.DataFrame.from_dict(schemes, orient='index', columns=['Scheme Name'])\n",
    "schemes_df.reset_index(inplace=True)\n",
    "schemes_df.rename(columns={'index': 'Scheme Code'}, inplace=True)\n",
    "schemes_df['Cleaned Name'] = schemes_df['Scheme Name'].apply(clean_names)\n",
    "\n",
    "# --- Build and fit the pipeline ---\n",
    "pipeline = Pipeline([\n",
    "    ('tfidf', TfidfVectorizer(ngram_range=(1, 1)))\n",
    "])\n",
    "\n",
    "tfidf_matrix = pipeline.fit_transform(schemes_df['Cleaned Name'])\n",
    "\n",
    "# --- Save everything needed for app ---\n",
    "joblib.dump({\n",
    "    'pipeline': pipeline,\n",
    "    'tfidf_matrix': tfidf_matrix,\n",
    "    'schemes_df': schemes_df\n",
    "}, 'tfidf_bundle.pkl')"
   ]
  }
 ],
 "metadata": {
  "kernelspec": {
   "display_name": ".venv",
   "language": "python",
   "name": "python3"
  },
  "language_info": {
   "codemirror_mode": {
    "name": "ipython",
    "version": 3
   },
   "file_extension": ".py",
   "mimetype": "text/x-python",
   "name": "python",
   "nbconvert_exporter": "python",
   "pygments_lexer": "ipython3",
   "version": "3.10.11"
  }
 },
 "nbformat": 4,
 "nbformat_minor": 5
}
